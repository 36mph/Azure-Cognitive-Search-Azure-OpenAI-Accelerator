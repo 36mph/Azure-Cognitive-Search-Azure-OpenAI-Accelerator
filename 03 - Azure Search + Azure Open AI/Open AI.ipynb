{
  "cells": [
    {
      "cell_type": "markdown",
      "metadata": {
        "nteract": {
          "transient": {
            "deleting": false
          }
        }
      },
      "source": []
    },
    {
      "cell_type": "markdown",
      "metadata": {
        "nteract": {
          "transient": {
            "deleting": false
          }
        }
      },
      "source": []
    },
    {
      "cell_type": "markdown",
      "metadata": {
        "nteract": {
          "transient": {
            "deleting": false
          }
        }
      },
      "source": [
        "## Connect to KeyVault"
      ]
    },
    {
      "cell_type": "code",
      "execution_count": 1,
      "metadata": {
        "gather": {
          "logged": 1677605831085
        },
        "jupyter": {
          "outputs_hidden": false,
          "source_hidden": false
        },
        "nteract": {
          "transient": {
            "deleting": false
          }
        }
      },
      "outputs": [
        {
          "name": "stdout",
          "output_type": "stream",
          "text": [
            "Retrieving your secrets from gios-keyvault.\n",
            "Done\n"
          ]
        }
      ],
      "source": [
        "import os\n",
        "from azure.keyvault.secrets import SecretClient\n",
        "from azure.identity import DefaultAzureCredential\n",
        "\n",
        "keyVaultName = \"gios-keyvault\"\n",
        "KVUri = f\"https://gios-keyvault.vault.azure.net/\"\n",
        "\n",
        "credential = DefaultAzureCredential()\n",
        "client = SecretClient(vault_url=KVUri, credential=credential)\n",
        "\n",
        "print(f\"Retrieving your secrets from {keyVaultName}.\")\n",
        "\n",
        "os.environ[\"AZURE_OPENAI_API_KEY\"] = client.get_secret(\"AZURE-OPENAI-API-KEY\").value\n",
        "os.environ[\"AZURE_OPENAI_ENDPOINT\"] = client.get_secret(\"AZURE-OPENAI-ENDPOINT\").value\n",
        "\n",
        "os.environ[\"AZURE_SEARCH_API_KEY\"] = client.get_secret(\"AZURE-SEARCH-API-KEY\").value\n",
        "os.environ[\"AZURE_SEARCH_SERVICE_ENDPOINT\"] = client.get_secret(\"AZURE-SEARCH-ENDPOINT\").value\n",
        "\n",
        "print(\"Done\")"
      ]
    },
    {
      "cell_type": "code",
      "execution_count": null,
      "metadata": {
        "jupyter": {
          "outputs_hidden": false,
          "source_hidden": false
        },
        "nteract": {
          "transient": {
            "deleting": false
          }
        }
      },
      "outputs": [],
      "source": []
    },
    {
      "cell_type": "code",
      "execution_count": 2,
      "metadata": {
        "gather": {
          "logged": 1677605833153
        },
        "jupyter": {
          "outputs_hidden": false,
          "source_hidden": false
        },
        "nteract": {
          "transient": {
            "deleting": false
          }
        }
      },
      "outputs": [
        {
          "name": "stderr",
          "output_type": "stream",
          "text": [
            "/anaconda/envs/azureml_py310_sdkv2/lib/python3.10/site-packages/tqdm/auto.py:22: TqdmWarning: IProgress not found. Please update jupyter and ipywidgets. See https://ipywidgets.readthedocs.io/en/stable/user_install.html\n",
            "  from .autonotebook import tqdm as notebook_tqdm\n",
            "None of PyTorch, TensorFlow >= 2.0, or Flax have been found. Models won't be available and only tokenizers, configuration and file/data utilities can be used.\n"
          ]
        },
        {
          "name": "stdout",
          "output_type": "stream",
          "text": [
            "{\n",
            "  \"data\": [\n",
            "    {\n",
            "      \"scale_settings\": {\n",
            "        \"scale_type\": \"standard\"\n",
            "      },\n",
            "      \"model\": \"text-davinci-002\",\n",
            "      \"owner\": \"organization-owner\",\n",
            "      \"id\": \"Davinci-002\",\n",
            "      \"status\": \"succeeded\",\n",
            "      \"created_at\": 1677170437,\n",
            "      \"updated_at\": 1677170437,\n",
            "      \"object\": \"deployment\"\n",
            "    },\n",
            "    {\n",
            "      \"scale_settings\": {\n",
            "        \"scale_type\": \"standard\"\n",
            "      },\n",
            "      \"model\": \"text-ada-001\",\n",
            "      \"owner\": \"organization-owner\",\n",
            "      \"id\": \"ada-001\",\n",
            "      \"status\": \"succeeded\",\n",
            "      \"created_at\": 1677170559,\n",
            "      \"updated_at\": 1677170559,\n",
            "      \"object\": \"deployment\"\n",
            "    },\n",
            "    {\n",
            "      \"scale_settings\": {\n",
            "        \"scale_type\": \"standard\"\n",
            "      },\n",
            "      \"model\": \"text-search-curie-doc-001\",\n",
            "      \"owner\": \"organization-owner\",\n",
            "      \"id\": \"text-search-curie-doc-001\",\n",
            "      \"status\": \"succeeded\",\n",
            "      \"created_at\": 1677549363,\n",
            "      \"updated_at\": 1677549363,\n",
            "      \"object\": \"deployment\"\n",
            "    },\n",
            "    {\n",
            "      \"scale_settings\": {\n",
            "        \"scale_type\": \"standard\"\n",
            "      },\n",
            "      \"model\": \"text-search-curie-query-001\",\n",
            "      \"owner\": \"organization-owner\",\n",
            "      \"id\": \"text-search-curie-query-001\",\n",
            "      \"status\": \"succeeded\",\n",
            "      \"created_at\": 1677549391,\n",
            "      \"updated_at\": 1677549391,\n",
            "      \"object\": \"deployment\"\n",
            "    }\n",
            "  ],\n",
            "  \"object\": \"list\"\n",
            "}\n"
          ]
        }
      ],
      "source": [
        "import openai\n",
        "import re\n",
        "import requests\n",
        "import sys\n",
        "from num2words import num2words\n",
        "import os\n",
        "import pandas as pd\n",
        "import numpy as np\n",
        "from openai.embeddings_utils import get_embedding, cosine_similarity\n",
        "from transformers import GPT2TokenizerFast\n",
        "\n",
        "API_KEY = os.getenv(\"AZURE_OPENAI_API_KEY\") \n",
        "RESOURCE_ENDPOINT = os.getenv(\"AZURE_OPENAI_ENDPOINT\") \n",
        "\n",
        "openai.api_type = \"azure\"\n",
        "openai.api_key = API_KEY\n",
        "openai.api_base = RESOURCE_ENDPOINT\n",
        "openai.api_version = \"2022-12-01\"\n",
        "\n",
        "url = openai.api_base + \"/openai/deployments?api-version=2022-12-01\"\n",
        "\n",
        "r = requests.get(url, headers={\"api-key\": API_KEY})\n",
        "\n",
        "print(r.text)"
      ]
    },
    {
      "cell_type": "code",
      "execution_count": 3,
      "metadata": {
        "gather": {
          "logged": 1677606205198
        },
        "jupyter": {
          "outputs_hidden": false,
          "source_hidden": false
        },
        "nteract": {
          "transient": {
            "deleting": false
          }
        }
      },
      "outputs": [],
      "source": [
        "from azure.search.documents import SearchClient\n",
        "from azure.core.credentials import AzureKeyCredential\n",
        "\n",
        "# Set the service endpoint and API key from the environment\n",
        "\n",
        "service_name = \"gios-cognitivesearch\"#\"YOUR-SEARCH-SERVICE-NAME\"\n",
        "admin_key = os.environ[\"AZURE_SEARCH_API_KEY\"]#\"YOUR-SEARCH-SERVICE-ADMIN-API-KEY\"\n",
        "\n",
        "index_name = \"hotels-quickstart\"\n",
        "\n",
        "# Create an SDK client\n",
        "endpoint = \"https://{}.search.windows.net/\".format(service_name)\n",
        "\n",
        "\n",
        "search_client = SearchClient(endpoint=endpoint,\n",
        "                      index_name=index_name,\n",
        "                      credential=AzureKeyCredential(admin_key))"
      ]
    },
    {
      "cell_type": "code",
      "execution_count": 25,
      "metadata": {},
      "outputs": [],
      "source": []
    },
    {
      "cell_type": "code",
      "execution_count": 86,
      "metadata": {
        "gather": {
          "logged": 1677607380112
        },
        "jupyter": {
          "outputs_hidden": false,
          "source_hidden": false
        },
        "nteract": {
          "transient": {
            "deleting": false
          }
        }
      },
      "outputs": [
        {
          "name": "stdout",
          "output_type": "stream",
          "text": [
            "Total Documents Matching Query: 1\n",
            "2: Twin Dome Motel: The hotel is situated in a  nineteenth century plaza, which has been expanded and renovated to the highest architectural standards to create a modern, functional and first-class hotel in which art and unique historical elements coexist with the most modern comforts.\n",
            "-----------------Result-----------------\n",
            ": The hotel is in an old plaza that's been renovated to be modern and comfortable, with some historical elements still present..\n"
          ]
        }
      ],
      "source": [
        "query=\"twin\"\n",
        "\n",
        "results =  search_client.search(search_text=query, include_total_count=True)\n",
        "\n",
        "print ('Total Documents Matching Query:', results.get_count())\n",
        "\n",
        "SearchResults = \"\"\n",
        "\n",
        "for result in results:\n",
        "    print(\"{}: {}: {}\".format(result[\"HotelId\"], result[\"HotelName\"] , result[\"Description\"] ))\n",
        " \n",
        "    SearchResults += result[\"HotelId\"]+result[\"Description\"]#+\" \\n \" \n",
        "\n",
        "# prompt = '{\\\n",
        "#     \"QUERY\":'+query+', \\\n",
        "#     \"SearchResults\": '+SearchResults+'\\\n",
        "#     }Tl;dr'\n",
        "\n",
        "prompt = SearchResults + \"Tl;dr\"\n",
        "completion = openai.Completion.create(deployment_id=\"Davinci-002\",\n",
        "                                     prompt=prompt, stop=\"\\n\", temperature=0,\n",
        "                                     echo=False,max_tokens= 100,\n",
        ")\n",
        "print(\"-----------------Result-----------------\")                      \n",
        "# print(f\"{prompt}{completion['choices'][0]['text']}.\")\n",
        "\n",
        "print(f\"{completion['choices'][0]['text']}.\")\n"
      ]
    },
    {
      "cell_type": "code",
      "execution_count": 76,
      "metadata": {
        "gather": {
          "logged": 1677607160203
        },
        "jupyter": {
          "outputs_hidden": false,
          "source_hidden": false
        },
        "nteract": {
          "transient": {
            "deleting": false
          }
        }
      },
      "outputs": [
        {
          "data": {
            "text/plain": [
              "<OpenAIObject text_completion id=cmpl-6p08uo0OwTDj2OtUMQyfkK07eRCr8 at 0x7fad8584d6c0> JSON: {\n",
              "  \"choices\": [\n",
              "    {\n",
              "      \"finish_reason\": \"length\",\n",
              "      \"index\": 0,\n",
              "      \"logprobs\": null,\n",
              "      \"text\": \"2The hotel is situated in a  nineteenth century plaza, which has been expanded and renovated to the highest architectural standards to create a modern, functional and first-class hotel in which art and unique historical elements coexist with the most modern comforts.Tl;dr: The hotel is in an old plaza that's been renovated to be modern and\"\n",
              "    }\n",
              "  ],\n",
              "  \"created\": 1677613296,\n",
              "  \"id\": \"cmpl-6p08uo0OwTDj2OtUMQyfkK07eRCr8\",\n",
              "  \"model\": \"text-davinci-002\",\n",
              "  \"object\": \"text_completion\",\n",
              "  \"usage\": {\n",
              "    \"completion_tokens\": 16,\n",
              "    \"prompt_tokens\": 54,\n",
              "    \"total_tokens\": 70\n",
              "  }\n",
              "}"
            ]
          },
          "execution_count": 76,
          "metadata": {},
          "output_type": "execute_result"
        }
      ],
      "source": [
        "completion"
      ]
    },
    {
      "cell_type": "code",
      "execution_count": null,
      "metadata": {
        "gather": {
          "logged": 1677607143178
        },
        "jupyter": {
          "outputs_hidden": false,
          "source_hidden": false
        },
        "nteract": {
          "transient": {
            "deleting": false
          }
        }
      },
      "outputs": [],
      "source": []
    },
    {
      "cell_type": "code",
      "execution_count": null,
      "metadata": {
        "gather": {
          "logged": 1677607056265
        },
        "jupyter": {
          "outputs_hidden": false,
          "source_hidden": false
        },
        "nteract": {
          "transient": {
            "deleting": false
          }
        }
      },
      "outputs": [],
      "source": []
    },
    {
      "cell_type": "code",
      "execution_count": 6,
      "metadata": {
        "gather": {
          "logged": 1677606916195
        },
        "jupyter": {
          "outputs_hidden": false,
          "source_hidden": false
        },
        "nteract": {
          "transient": {
            "deleting": false
          }
        }
      },
      "outputs": [
        {
          "data": {
            "text/plain": [
              "''"
            ]
          },
          "execution_count": 6,
          "metadata": {},
          "output_type": "execute_result"
        }
      ],
      "source": [
        "def concatenate_values(dictionary, string):\n",
        "    descriptions = [result[string] for result in dictionary]\n",
        "    return \" \".join(descriptions)\n",
        "\n",
        "prompt = concatenate_values(results,\"HotelName\")\n",
        "prompt"
      ]
    },
    {
      "cell_type": "code",
      "execution_count": null,
      "metadata": {
        "jupyter": {
          "outputs_hidden": false,
          "source_hidden": false
        },
        "nteract": {
          "transient": {
            "deleting": false
          }
        }
      },
      "outputs": [],
      "source": [
        "summary = \"\"\n",
        "\n",
        "#Get completions\n",
        "\n",
        "Query = \"\"\n",
        "SearchResults = \"\"\n",
        "\n"
      ]
    },
    {
      "cell_type": "code",
      "execution_count": 22,
      "metadata": {},
      "outputs": [
        {
          "name": "stdout",
          "output_type": "stream",
          "text": [
            "The food was delicious and the waiter was very attentive.\n"
          ]
        }
      ],
      "source": [
        "prompt = \"The food was delicious and the waiter\"\n",
        "completion = openai.Completion.create(deployment_id=\"Davinci-002\",\n",
        "                                     prompt=prompt, stop=\".\", temperature=0)\n",
        "                                \n",
        "print(f\"{prompt}{completion['choices'][0]['text']}.\")\n"
      ]
    },
    {
      "cell_type": "code",
      "execution_count": 58,
      "metadata": {
        "gather": {
          "logged": 1677606140088
        },
        "jupyter": {
          "outputs_hidden": false,
          "source_hidden": false
        },
        "nteract": {
          "transient": {
            "deleting": false
          }
        }
      },
      "outputs": [
        {
          "name": "stdout",
          "output_type": "stream",
          "text": [
            "Say this is a test\n",
            "\n",
            "This is a test.\n"
          ]
        }
      ],
      "source": [
        "prompt = \"Say this is a test\"\n",
        "completion = openai.Completion.create(deployment_id=\"Davinci-002\",\n",
        "                                     prompt=prompt, stop=\".\", temperature=0)\n",
        "                                \n",
        "print(f\"{prompt}{completion['choices'][0]['text']}.\")"
      ]
    }
  ],
  "metadata": {
    "kernel_info": {
      "name": "python310-sdkv2"
    },
    "kernelspec": {
      "display_name": "Python 3.10 - SDK v2",
      "language": "python",
      "name": "python310-sdkv2"
    },
    "language_info": {
      "codemirror_mode": {
        "name": "ipython",
        "version": 3
      },
      "file_extension": ".py",
      "mimetype": "text/x-python",
      "name": "python",
      "nbconvert_exporter": "python",
      "pygments_lexer": "ipython3",
      "version": "3.10.9"
    },
    "microsoft": {
      "host": {
        "AzureML": {
          "notebookHasBeenCompleted": true
        }
      },
      "ms_spell_check": {
        "ms_spell_check_language": "en"
      }
    },
    "nteract": {
      "version": "nteract-front-end@1.0.0"
    }
  },
  "nbformat": 4,
  "nbformat_minor": 2
}
